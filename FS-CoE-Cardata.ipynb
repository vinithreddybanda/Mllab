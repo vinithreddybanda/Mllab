{
 "cells": [
  {
   "cell_type": "code",
   "execution_count": 9,
   "id": "eed4e8a7-ae18-4451-b2b9-fa390412ec0b",
   "metadata": {},
   "outputs": [],
   "source": [
    "# The correlation factor can be used to find the relation between the independent variable and the target variable. \n",
    "# Below python code demonstrates the usage of correlation factors in determining the dependence \n",
    "# between the independent variable and the target variable using auto-car data set. \n",
    "# It has 9 features among which ‘mpg’ is the target variable. \n",
    "# The correlation coefficient between ‘mpg’ and the remaining 8 variables is determined. \n",
    "# Then the features according to their correlation coefficient are sorted. \n",
    "# The features with a correlation coefficient > 0.5 are selected as they are significant in predicting the target variable. "
   ]
  },
  {
   "cell_type": "code",
   "execution_count": 13,
   "id": "a265008e-4e9a-45a2-8c42-06aea093dde0",
   "metadata": {},
   "outputs": [],
   "source": [
    "from sklearn.preprocessing import LabelEncoder\n",
    "from IPython.display import display \n",
    "import pandas as pd\n",
    "cardata= pd.read_csv(r\"E:\\ML-2024-25\\Feature Engineering -Data Sets\\Data\\auto-mpg.csv\")"
   ]
  },
  {
   "cell_type": "code",
   "execution_count": null,
   "id": "b8d61458-1223-46c5-8899-0978530b181c",
   "metadata": {},
   "outputs": [],
   "source": [
    "# this dataset has 9 features and 398 records\n",
    "cardata.shape"
   ]
  },
  {
   "cell_type": "code",
   "execution_count": null,
   "id": "f9831e18-1a09-4d0b-8a08-0990cd08673b",
   "metadata": {},
   "outputs": [],
   "source": [
    "#Print two rows to see the dataset entries\n",
    "print('-------------------------------------------------')\n",
    "print('               DATA SET            ')\n",
    "print('-------------------------------------------------')\n",
    "display(cardata.head(2))"
   ]
  },
  {
   "cell_type": "code",
   "execution_count": null,
   "id": "0c5e52be-c6ff-4c45-94bc-5333b644d803",
   "metadata": {},
   "outputs": [],
   "source": [
    "# describe function gives the details of only numeric fatures\n",
    "cardata.describe()\n",
    "# what happend to the features horsepower and car name?"
   ]
  },
  {
   "cell_type": "code",
   "execution_count": null,
   "id": "11e81da4-86f0-4695-b265-bbffce6391fd",
   "metadata": {},
   "outputs": [],
   "source": [
    "#print a concise summary of a DataFrame\n",
    "print('SUMMARY OF THE DATASET')\n",
    "print('-------------------------------------------------')\n",
    "cardata.info()\n",
    "print('-------------------------------------------------')\n",
    "# from the output it can be observed that horsepower and car name of are type object"
   ]
  },
  {
   "cell_type": "code",
   "execution_count": null,
   "id": "0d7a8dc3-fd08-49e9-8f05-f2eb429ebe57",
   "metadata": {},
   "outputs": [],
   "source": [
    "#####################################\n",
    "#convert Object datatypt to numeric datatype\n",
    "#####################################\n",
    "# Syntax : pandas.to_numeric(arg, errors='raise', downcast=None, dtype_backend=_NoDefault.no_default)\n",
    "# Returns: ret Numeric if parsing succeeded. Return type depends on input. Series if Series, otherwise ndarray\n",
    "\n",
    "#parametrs:\n",
    "# arg: scalar, list, tuple, 1-d array, or Series\n",
    "\n",
    "# errors{‘ignore’, ‘raise’, ‘coerce’}, default ‘raise’\n",
    "# If ‘raise’, then invalid parsing will raise an exception.\n",
    "# If ‘coerce’, then invalid parsing will be set as NaN.\n",
    "# If ‘ignore’, then invalid parsing will return the input\n",
    "\n",
    "#downcast  : str, default None\n",
    "# Can be ‘integer’, ‘signed’, ‘unsigned’, or ‘float’. \n",
    "# If not None, and if the data has been successfully cast to a numerical dtype (or if the data was numeric to begin with), \n",
    "# downcast that resulting data to the smallest numerical dtype \n",
    "\n",
    "#dtype_backend : default ‘numpy_nullable’\n",
    " # \"numpy_nullable\": returns nullable-dtype-backed DataFrame (default).\n",
    "# otherwise , returns nullable ArrowDtype DataFrame.\n"
   ]
  },
  {
   "cell_type": "code",
   "execution_count": 14,
   "id": "7cf1d5d3-9949-4f1a-a6a7-909752959092",
   "metadata": {},
   "outputs": [
    {
     "name": "stdout",
     "output_type": "stream",
     "text": [
      "SUMMARY OF THE DATASET AFTER DATATYPE CONVERSION\n",
      "-------------------------------------------------\n",
      "<class 'pandas.core.frame.DataFrame'>\n",
      "RangeIndex: 398 entries, 0 to 397\n",
      "Data columns (total 9 columns):\n",
      " #   Column        Non-Null Count  Dtype  \n",
      "---  ------        --------------  -----  \n",
      " 0   mpg           398 non-null    float64\n",
      " 1   cylinders     398 non-null    int64  \n",
      " 2   displacement  398 non-null    float64\n",
      " 3   horsepower    398 non-null    int32  \n",
      " 4   weight        398 non-null    int64  \n",
      " 5   acceleration  398 non-null    float64\n",
      " 6   model year    398 non-null    int64  \n",
      " 7   origin        398 non-null    int64  \n",
      " 8   car name      398 non-null    object \n",
      "dtypes: float64(3), int32(1), int64(4), object(1)\n",
      "memory usage: 26.6+ KB\n",
      "-------------------------------------------------\n"
     ]
    }
   ],
   "source": [
    "#####################################\n",
    "#convert Object datatypt to numeric datatype\n",
    "#####################################\n",
    "cardata['horsepower'] = pd.to_numeric(cardata['horsepower'], errors='coerce').fillna(0).astype(int)\n",
    "print('SUMMARY OF THE DATASET AFTER DATATYPE CONVERSION')\n",
    "print('-------------------------------------------------')\n",
    "cardata.info()\n",
    "print('-------------------------------------------------')"
   ]
  },
  {
   "cell_type": "code",
   "execution_count": 15,
   "id": "912bf4c9-05c9-4a15-a27f-b822d299a748",
   "metadata": {},
   "outputs": [],
   "source": [
    "#####################################\n",
    "# Encode catergorical variable\n",
    "#####################################\n",
    "carname= cardata.iloc[:, 8].values\n",
    "labelencoder = LabelEncoder()\n",
    "carname= labelencoder.fit_transform(carname)"
   ]
  },
  {
   "cell_type": "code",
   "execution_count": 16,
   "id": "30176f0c-a7d5-4a53-9ab7-ce06b2fcb8a4",
   "metadata": {},
   "outputs": [
    {
     "data": {
      "text/html": [
       "<div>\n",
       "<style scoped>\n",
       "    .dataframe tbody tr th:only-of-type {\n",
       "        vertical-align: middle;\n",
       "    }\n",
       "\n",
       "    .dataframe tbody tr th {\n",
       "        vertical-align: top;\n",
       "    }\n",
       "\n",
       "    .dataframe thead th {\n",
       "        text-align: right;\n",
       "    }\n",
       "</style>\n",
       "<table border=\"1\" class=\"dataframe\">\n",
       "  <thead>\n",
       "    <tr style=\"text-align: right;\">\n",
       "      <th></th>\n",
       "      <th>cylinders</th>\n",
       "      <th>displacement</th>\n",
       "      <th>horsepower</th>\n",
       "      <th>weight</th>\n",
       "      <th>acceleration</th>\n",
       "      <th>model year</th>\n",
       "      <th>origin</th>\n",
       "    </tr>\n",
       "  </thead>\n",
       "  <tbody>\n",
       "    <tr>\n",
       "      <th>0</th>\n",
       "      <td>8</td>\n",
       "      <td>307.0</td>\n",
       "      <td>130</td>\n",
       "      <td>3504</td>\n",
       "      <td>12.0</td>\n",
       "      <td>70</td>\n",
       "      <td>1</td>\n",
       "    </tr>\n",
       "    <tr>\n",
       "      <th>1</th>\n",
       "      <td>8</td>\n",
       "      <td>350.0</td>\n",
       "      <td>165</td>\n",
       "      <td>3693</td>\n",
       "      <td>11.5</td>\n",
       "      <td>70</td>\n",
       "      <td>1</td>\n",
       "    </tr>\n",
       "    <tr>\n",
       "      <th>2</th>\n",
       "      <td>8</td>\n",
       "      <td>318.0</td>\n",
       "      <td>150</td>\n",
       "      <td>3436</td>\n",
       "      <td>11.0</td>\n",
       "      <td>70</td>\n",
       "      <td>1</td>\n",
       "    </tr>\n",
       "    <tr>\n",
       "      <th>3</th>\n",
       "      <td>8</td>\n",
       "      <td>304.0</td>\n",
       "      <td>150</td>\n",
       "      <td>3433</td>\n",
       "      <td>12.0</td>\n",
       "      <td>70</td>\n",
       "      <td>1</td>\n",
       "    </tr>\n",
       "    <tr>\n",
       "      <th>4</th>\n",
       "      <td>8</td>\n",
       "      <td>302.0</td>\n",
       "      <td>140</td>\n",
       "      <td>3449</td>\n",
       "      <td>10.5</td>\n",
       "      <td>70</td>\n",
       "      <td>1</td>\n",
       "    </tr>\n",
       "    <tr>\n",
       "      <th>...</th>\n",
       "      <td>...</td>\n",
       "      <td>...</td>\n",
       "      <td>...</td>\n",
       "      <td>...</td>\n",
       "      <td>...</td>\n",
       "      <td>...</td>\n",
       "      <td>...</td>\n",
       "    </tr>\n",
       "    <tr>\n",
       "      <th>393</th>\n",
       "      <td>4</td>\n",
       "      <td>140.0</td>\n",
       "      <td>86</td>\n",
       "      <td>2790</td>\n",
       "      <td>15.6</td>\n",
       "      <td>82</td>\n",
       "      <td>1</td>\n",
       "    </tr>\n",
       "    <tr>\n",
       "      <th>394</th>\n",
       "      <td>4</td>\n",
       "      <td>97.0</td>\n",
       "      <td>52</td>\n",
       "      <td>2130</td>\n",
       "      <td>24.6</td>\n",
       "      <td>82</td>\n",
       "      <td>2</td>\n",
       "    </tr>\n",
       "    <tr>\n",
       "      <th>395</th>\n",
       "      <td>4</td>\n",
       "      <td>135.0</td>\n",
       "      <td>84</td>\n",
       "      <td>2295</td>\n",
       "      <td>11.6</td>\n",
       "      <td>82</td>\n",
       "      <td>1</td>\n",
       "    </tr>\n",
       "    <tr>\n",
       "      <th>396</th>\n",
       "      <td>4</td>\n",
       "      <td>120.0</td>\n",
       "      <td>79</td>\n",
       "      <td>2625</td>\n",
       "      <td>18.6</td>\n",
       "      <td>82</td>\n",
       "      <td>1</td>\n",
       "    </tr>\n",
       "    <tr>\n",
       "      <th>397</th>\n",
       "      <td>4</td>\n",
       "      <td>119.0</td>\n",
       "      <td>82</td>\n",
       "      <td>2720</td>\n",
       "      <td>19.4</td>\n",
       "      <td>82</td>\n",
       "      <td>1</td>\n",
       "    </tr>\n",
       "  </tbody>\n",
       "</table>\n",
       "<p>398 rows × 7 columns</p>\n",
       "</div>"
      ],
      "text/plain": [
       "     cylinders  displacement  horsepower  weight  acceleration  model year  \\\n",
       "0            8         307.0         130    3504          12.0          70   \n",
       "1            8         350.0         165    3693          11.5          70   \n",
       "2            8         318.0         150    3436          11.0          70   \n",
       "3            8         304.0         150    3433          12.0          70   \n",
       "4            8         302.0         140    3449          10.5          70   \n",
       "..         ...           ...         ...     ...           ...         ...   \n",
       "393          4         140.0          86    2790          15.6          82   \n",
       "394          4          97.0          52    2130          24.6          82   \n",
       "395          4         135.0          84    2295          11.6          82   \n",
       "396          4         120.0          79    2625          18.6          82   \n",
       "397          4         119.0          82    2720          19.4          82   \n",
       "\n",
       "     origin  \n",
       "0         1  \n",
       "1         1  \n",
       "2         1  \n",
       "3         1  \n",
       "4         1  \n",
       "..      ...  \n",
       "393       1  \n",
       "394       2  \n",
       "395       1  \n",
       "396       1  \n",
       "397       1  \n",
       "\n",
       "[398 rows x 7 columns]"
      ]
     },
     "execution_count": 16,
     "metadata": {},
     "output_type": "execute_result"
    }
   ],
   "source": [
    "X= cardata.iloc[:,1:8]\n",
    "X"
   ]
  },
  {
   "cell_type": "code",
   "execution_count": 17,
   "id": "e8a1d9ab-2dc1-4f3a-b4cc-5c31543ba522",
   "metadata": {},
   "outputs": [
    {
     "data": {
      "text/html": [
       "<div>\n",
       "<style scoped>\n",
       "    .dataframe tbody tr th:only-of-type {\n",
       "        vertical-align: middle;\n",
       "    }\n",
       "\n",
       "    .dataframe tbody tr th {\n",
       "        vertical-align: top;\n",
       "    }\n",
       "\n",
       "    .dataframe thead th {\n",
       "        text-align: right;\n",
       "    }\n",
       "</style>\n",
       "<table border=\"1\" class=\"dataframe\">\n",
       "  <thead>\n",
       "    <tr style=\"text-align: right;\">\n",
       "      <th></th>\n",
       "      <th>mpg</th>\n",
       "      <th>cylinders</th>\n",
       "      <th>displacement</th>\n",
       "      <th>horsepower</th>\n",
       "      <th>weight</th>\n",
       "      <th>acceleration</th>\n",
       "      <th>model year</th>\n",
       "      <th>origin</th>\n",
       "      <th>car name</th>\n",
       "    </tr>\n",
       "  </thead>\n",
       "  <tbody>\n",
       "    <tr>\n",
       "      <th>0</th>\n",
       "      <td>18.0</td>\n",
       "      <td>8</td>\n",
       "      <td>307.0</td>\n",
       "      <td>130</td>\n",
       "      <td>3504</td>\n",
       "      <td>12.0</td>\n",
       "      <td>70</td>\n",
       "      <td>1</td>\n",
       "      <td>49</td>\n",
       "    </tr>\n",
       "    <tr>\n",
       "      <th>1</th>\n",
       "      <td>15.0</td>\n",
       "      <td>8</td>\n",
       "      <td>350.0</td>\n",
       "      <td>165</td>\n",
       "      <td>3693</td>\n",
       "      <td>11.5</td>\n",
       "      <td>70</td>\n",
       "      <td>1</td>\n",
       "      <td>36</td>\n",
       "    </tr>\n",
       "  </tbody>\n",
       "</table>\n",
       "</div>"
      ],
      "text/plain": [
       "    mpg  cylinders  displacement  horsepower  weight  acceleration  \\\n",
       "0  18.0          8         307.0         130    3504          12.0   \n",
       "1  15.0          8         350.0         165    3693          11.5   \n",
       "\n",
       "   model year  origin  car name  \n",
       "0          70       1        49  \n",
       "1          70       1        36  "
      ]
     },
     "metadata": {},
     "output_type": "display_data"
    }
   ],
   "source": [
    "############################\n",
    "# generating the data with encoded variable\n",
    "#########################\n",
    "target=cardata.iloc[:,0].values\n",
    "X=cardata.iloc[:,0:8]\n",
    "X['car name'] = carname\n",
    "X['mpg'] = target\n",
    "display(X.head(2))\n",
    "#####################################"
   ]
  },
  {
   "cell_type": "code",
   "execution_count": 18,
   "id": "38d03c66-8b2b-4a39-8bf5-460f8b8e21fe",
   "metadata": {},
   "outputs": [
    {
     "data": {
      "text/plain": [
       "cylinders      -0.775396\n",
       "displacement   -0.804203\n",
       "horsepower     -0.754276\n",
       "weight         -0.831741\n",
       "acceleration    0.420289\n",
       "model year      0.579267\n",
       "origin          0.563450\n",
       "car name        0.273936\n",
       "dtype: float64"
      ]
     },
     "execution_count": 18,
     "metadata": {},
     "output_type": "execute_result"
    }
   ],
   "source": [
    "# Find the features that are  correlated with the target variable\n",
    "#####################################\n",
    "Impfeatures = X.drop(\"mpg\", axis=1).apply(lambda x: x.corr(X.mpg))\n",
    "Impfeatures"
   ]
  },
  {
   "cell_type": "code",
   "execution_count": 19,
   "id": "a91ac173-6d42-458d-92c7-3023ef0bb05f",
   "metadata": {},
   "outputs": [
    {
     "name": "stdout",
     "output_type": "stream",
     "text": [
      "weight         -0.831741\n",
      "displacement   -0.804203\n",
      "cylinders      -0.775396\n",
      "horsepower     -0.754276\n",
      "car name        0.273936\n",
      "acceleration    0.420289\n",
      "origin          0.563450\n",
      "model year      0.579267\n",
      "dtype: float64\n"
     ]
    },
    {
     "name": "stderr",
     "output_type": "stream",
     "text": [
      "C:\\Users\\Sirisha Alamanda\\AppData\\Local\\Temp\\ipykernel_16828\\3324559945.py:5: FutureWarning: Series.__getitem__ treating keys as positions is deprecated. In a future version, integer keys will always be treated as labels (consistent with DataFrame behavior). To access a value by position, use `ser.iloc[pos]`\n",
      "  print(Impfeatures[indices])\n"
     ]
    }
   ],
   "source": [
    "# Find the features that are  correlated with the target variable\n",
    "#####################################\n",
    "import numpy as np\n",
    "indices = np.argsort(Impfeatures)\n",
    "print(Impfeatures[indices])   \n"
   ]
  },
  {
   "cell_type": "code",
   "execution_count": 22,
   "id": "33dc6800-7547-4d7b-8de5-f06fe28c8860",
   "metadata": {},
   "outputs": [
    {
     "name": "stderr",
     "output_type": "stream",
     "text": [
      "C:\\Users\\Sirisha Alamanda\\AppData\\Local\\Temp\\ipykernel_16828\\2473931056.py:7: FutureWarning: Series.__getitem__ treating keys as positions is deprecated. In a future version, integer keys will always be treated as labels (consistent with DataFrame behavior). To access a value by position, use `ser.iloc[pos]`\n",
      "  plt.barh(range(len(indices)), Impfeatures[indices], color='b', align='center')\n"
     ]
    },
    {
     "data": {
      "image/png": "[encoded data removed]",
      "text/plain": [
       "<Figure size 640x480 with 1 Axes>"
      ]
     },
     "metadata": {},
     "output_type": "display_data"
    }
   ],
   "source": [
    "#####################################\n",
    "# Visualize the features\n",
    "#####################################\n",
    "import matplotlib.pyplot as plt\n",
    "names=['cylinder','displacement','horsepower','weight','acceleration','model year', 'Origin', 'car']\n",
    "plt.title('Miles Per Gallon')\n",
    "plt.barh(range(len(indices)), Impfeatures[indices], color='b', align='center')\n",
    "plt.yticks(range(len(indices)), [names[i] for i in indices])\n",
    "plt.xlabel('Relative Importance')\n",
    "plt.show()"
   ]
  },
  {
   "cell_type": "code",
   "execution_count": 23,
   "id": "76113742-d6b8-4af9-8da5-c79aadf46d0d",
   "metadata": {},
   "outputs": [
    {
     "name": "stdout",
     "output_type": "stream",
     "text": [
      "-----------------------------------------------\n",
      "LIST OF IMPORTANT FEATURES\n",
      "-----------------------------------------------\n",
      "cylinder\n",
      "displacement\n",
      "horsepower\n",
      "weight\n",
      "model year\n",
      "Origin\n"
     ]
    },
    {
     "name": "stderr",
     "output_type": "stream",
     "text": [
      "C:\\Users\\Sirisha Alamanda\\AppData\\Local\\Temp\\ipykernel_16828\\2681036811.py:9: FutureWarning: Series.__getitem__ treating keys as positions is deprecated. In a future version, integer keys will always be treated as labels (consistent with DataFrame behavior). To access a value by position, use `ser.iloc[pos]`\n",
      "  if np.abs(Impfeatures[i])>0.5:\n"
     ]
    }
   ],
   "source": [
    "#####################################\n",
    "#The features with a correlation coefficient > 0.5 are selected as they are significant in predicting the target variable. \n",
    "# Display the list of Important features \n",
    "#####################################\n",
    "print('-----------------------------------------------')\n",
    "print('LIST OF IMPORTANT FEATURES')\n",
    "print('-----------------------------------------------')\n",
    "for i in range(0, len(indices)):\n",
    "    if np.abs(Impfeatures[i])>0.5:\n",
    "        print(names[i]) "
   ]
  }
 ],
 "metadata": {
  "kernelspec": {
   "display_name": "Python 3 (ipykernel)",
   "language": "python",
   "name": "python3"
  },
  "language_info": {
   "codemirror_mode": {
    "name": "ipython",
    "version": 3
   },
   "file_extension": ".py",
   "mimetype": "text/x-python",
   "name": "python",
   "nbconvert_exporter": "python",
   "pygments_lexer": "ipython3",
   "version": "3.11.7"
  }
 },
 "nbformat": 4,
 "nbformat_minor": 5
}
